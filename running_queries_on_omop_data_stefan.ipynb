{
 "cells": [
  {
   "cell_type": "markdown",
   "source": [
    "# Running queries on the OMOP data\n",
    "\n",
    "## Install required packages\n",
    "\n",
    "Before executing the cells below, in a terminal session install the following required R packages:\n",
    "\n",
    "`conda create -n omop-source r-glue r-tidyverse r-data.table r-dbi  r-rpostgres r-irkernel -y`\n",
    "\n",
    "### Connect to the SQL database"
   ],
   "metadata": {}
  },
  {
   "cell_type": "code",
   "execution_count": null,
   "source": [
    "library(tidyverse)\n",
    "library(data.table)\n",
    "library(glue)\n",
    "library(DBI)\n",
    "library(RPostgres)\n",
    "\n",
    "DBNAME <- #\n",
    "HOST <- #\n",
    "PORT <- #\n",
    "PASSWORD <-  #\n",
    "USER <- 'jupyter_notebook'\n",
    "\n",
    "connection <- DBI::dbConnect(\n",
    "    RPostgres::Postgres(),\n",
    "    dbname = DBNAME,\n",
    "    host = HOST,\n",
    "    port = PORT,\n",
    "    password = PASSWORD,\n",
    "    user = USER,\n",
    "    )"
   ],
   "outputs": [],
   "metadata": {
    "vscode": {
     "languageId": "r"
    }
   }
  },
  {
   "cell_type": "code",
   "execution_count": null,
   "source": [
    "# SQL query - Demographics\n",
    "This is a simple query that provides the total number of participants"
   ],
   "outputs": [],
   "metadata": {
    "vscode": {
     "languageId": "r"
    }
   }
  },
  {
   "cell_type": "code",
   "execution_count": null,
   "source": [
    "omop_query <- \"\n",
    "    select count(distinct o.person_id) as count\n",
    "    from omop_data_stefan_v1.person o\n",
    "\"\n",
    "\n",
    "all_dataset_demo <- dbGetQuery(connection, glue(omop_query, schema = \"omop_data_stefan_v1\"))\n",
    "\n",
    "all_dataset_demo"
   ],
   "outputs": [],
   "metadata": {
    "vscode": {
     "languageId": "r"
    }
   }
  },
  {
   "cell_type": "markdown",
   "source": [
    "This is a simple query that provides the total of the counts stratified by race"
   ],
   "metadata": {}
  },
  {
   "cell_type": "code",
   "execution_count": null,
   "source": [
    "omop_query <- \"\n",
    "    select count(distinct p.person_id) as count, p.race_source_value, p.race_concept_id\n",
    "    from omop_data_stefan_v1.person p\n",
    "    group by p.race_source_value, p.race_concept_id\n",
    "\"\n",
    "\n",
    "all_dataset_demo <- dbGetQuery(connection, glue(omop_query, schema = \"omop_data_stefan_v1\"))\n",
    "\n",
    "all_dataset_demo"
   ],
   "outputs": [],
   "metadata": {
    "vscode": {
     "languageId": "r"
    }
   }
  },
  {
   "cell_type": "code",
   "execution_count": null,
   "source": [
    "This is a simple query that provides the total of the counts stratified by gender"
   ],
   "outputs": [],
   "metadata": {
    "vscode": {
     "languageId": "r"
    }
   }
  },
  {
   "cell_type": "code",
   "execution_count": null,
   "source": [
    "omop_query <- \"\n",
    "    select count(distinct p.person_id) as count, p.gender_source_value, p.gender_concept_id, c.concept_name\n",
    "    from omop_data_stefan_v1.person p\n",
    "    left join omop_data_stefan_v1.concept c on c.concept_id = p.gender_concept_id\n",
    "    group by p.gender_source_value, p.gender_concept_id, c.concept_name\n",
    "\"\n",
    "\n",
    "all_dataset_demo <- dbGetQuery(connection, glue(omop_query, schema = \"omop_data_stefan_v1\"))\n",
    "\n",
    "all_dataset_demo"
   ],
   "outputs": [],
   "metadata": {
    "vscode": {
     "languageId": "r"
    }
   }
  },
  {
   "cell_type": "markdown",
   "source": [
    "This is a simple query that provides the total of the counts stratified by condition"
   ],
   "metadata": {}
  },
  {
   "cell_type": "code",
   "execution_count": null,
   "source": [
    "omop_query <- \"\n",
    "    select count(distinct co.person_id) as count, co.condition_source_value, co.condition_concept_id, c.concept_name\n",
    "    from omop_data_stefan_v1.condition_occurrence co\n",
    "    left join omop_data_stefan_v1.concept c on c.concept_id = co.condition_concept_id\n",
    "    group by co.condition_source_value, co.condition_concept_id, c.concept_name\n",
    "    order by count desc\n",
    "\"\n",
    "\n",
    "all_dataset_demo <- dbGetQuery(connection, glue(omop_query, schema = \"omop_data_stefan_v1\"))\n",
    "\n",
    "all_dataset_demo"
   ],
   "outputs": [],
   "metadata": {
    "vscode": {
     "languageId": "r"
    }
   }
  },
  {
   "cell_type": "markdown",
   "source": [
    "This is a query that provides all the participants with their respective condition"
   ],
   "metadata": {}
  },
  {
   "cell_type": "code",
   "execution_count": null,
   "source": [
    "omop_query <- \"\n",
    "    select p.person_source_value, co.condition_source_value, co.condition_concept_id, c.concept_name\n",
    "    from omop_data_stefan_v1.condition_occurrence co\n",
    "    left join omop_data_stefan_v1.person p on p.person_id = co.person_id\n",
    "    left join omop_data_stefan_v1.concept c on c.concept_id = co.condition_concept_id\n",
    "\"\n",
    "\n",
    "all_dataset_demo <- dbGetQuery(connection, glue(omop_query, schema = \"omop_data_stefan_v1\"))\n",
    "\n",
    "all_dataset_demo"
   ],
   "outputs": [],
   "metadata": {
    "vscode": {
     "languageId": "r"
    }
   }
  },
  {
   "cell_type": "markdown",
   "source": [
    "This is a query that provides the participants that were diagnosed with Right ventricular abnormality (condition_concept_id = 4101621)"
   ],
   "metadata": {}
  },
  {
   "cell_type": "code",
   "execution_count": null,
   "source": [
    "omop_query <- \"\n",
    "    select p.person_source_value, co.condition_source_value, co.condition_concept_id, c.concept_name\n",
    "    from omop_data_stefan_v1.condition_occurrence co\n",
    "    left join omop_data_stefan_v1.person p on p.person_id = co.person_id\n",
    "    left join omop_data_stefan_v1.concept c on c.concept_id = co.condition_concept_id\n",
    "    where co.condition_concept_id = 4101621\n",
    "\"\n",
    "\n",
    "all_dataset_demo <- dbGetQuery(connection, glue(omop_query, schema = \"omop_data_stefan_v1\"))\n",
    "\n",
    "all_dataset_demo"
   ],
   "outputs": [],
   "metadata": {
    "vscode": {
     "languageId": "r"
    }
   }
  },
  {
   "cell_type": "markdown",
   "source": [
    "This is a query that provides all the participants with their respective specimen type"
   ],
   "metadata": {}
  },
  {
   "cell_type": "code",
   "execution_count": null,
   "source": [
    "omop_query <- \"\n",
    "    select p.person_source_value, co.specimen_source_value, co.specimen_concept_id, c.concept_name\n",
    "    from omop_data_stefan_v1.specimen co\n",
    "    left join omop_data_stefan_v1.person p on p.person_id = co.person_id\n",
    "    left join omop_data_stefan_v1.concept c on c.concept_id = co.specimen_concept_id\n",
    "\"\n",
    "\n",
    "all_dataset_demo <- dbGetQuery(connection, glue(omop_query, schema = \"omop_data_stefan_v1\"))\n",
    "\n",
    "all_dataset_demo"
   ],
   "outputs": [],
   "metadata": {
    "vscode": {
     "languageId": "r"
    }
   }
  },
  {
   "cell_type": "code",
   "execution_count": null,
   "source": [
    "This is a query that provides all the participants and their respective AGE."
   ],
   "outputs": [],
   "metadata": {
    "vscode": {
     "languageId": "r"
    }
   }
  },
  {
   "cell_type": "code",
   "execution_count": null,
   "source": [
    "omop_query <- \"\n",
    "    select p.person_source_value, co.observation_source_value, co.value_as_number\n",
    "    from omop_data_stefan_v1.observation co\n",
    "    left join omop_data_stefan_v1.person p on p.person_id = co.person_id\n",
    "    left join omop_data_stefan_v1.concept c on c.concept_id = co.observation_concept_id\n",
    "    where co.observation_source_value = 'AGE'\n",
    "\"\n",
    "\n",
    "all_dataset_demo <- dbGetQuery(connection, glue(omop_query, schema = \"omop_data_stefan_v1\"))\n",
    "\n",
    "all_dataset_demo"
   ],
   "outputs": [],
   "metadata": {
    "vscode": {
     "languageId": "r"
    }
   }
  },
  {
   "cell_type": "markdown",
   "source": [
    "This is a query that provides all the participants who are older than 50"
   ],
   "metadata": {}
  },
  {
   "cell_type": "code",
   "execution_count": null,
   "source": [
    "omop_query <- \"\n",
    "    select p.person_source_value, co.observation_source_value, co.value_as_number\n",
    "    from omop_data_stefan_v1.observation co\n",
    "    left join omop_data_stefan_v1.person p on p.person_id = co.person_id\n",
    "    left join omop_data_stefan_v1.concept c on c.concept_id = co.observation_concept_id\n",
    "    where co.observation_source_value = 'AGE' and co.value_as_number > 50\n",
    "\"\n",
    "\n",
    "all_dataset_demo <- dbGetQuery(connection, glue(omop_query, schema = \"omop_data_stefan_v1\"))\n",
    "\n",
    "all_dataset_demo"
   ],
   "outputs": [],
   "metadata": {
    "vscode": {
     "languageId": "r"
    }
   }
  },
  {
   "cell_type": "markdown",
   "source": [
    "This is a query that provides all the participants with a FEV1 measurement and their respective value and unit."
   ],
   "metadata": {}
  },
  {
   "cell_type": "code",
   "execution_count": null,
   "source": [
    "omop_query <- \"\n",
    "select co.person_id, co.measurement_concept_id, co.measurement_source_value, co.value_source_value, co.unit_source_value, c.concept_name\n",
    "from omop_data_stefan_v1.measurement co\n",
    "left join omop_data_stefan_v1.concept c on c.concept_id = co.measurement_concept_id\n",
    "where measurement_concept_id = 3024653\n",
    "\"\n",
    "\n",
    "all_dataset_demo <- dbGetQuery(connection, glue(omop_query, schema = \"omop_data_stefan_v1\"))\n",
    "\n",
    "all_dataset_demo"
   ],
   "outputs": [],
   "metadata": {}
  }
 ],
 "metadata": {
  "kernelspec": {
   "display_name": "R",
   "language": "R",
   "name": "ir"
  },
  "language_info": {
   "codemirror_mode": "r",
   "file_extension": ".r",
   "mimetype": "text/x-r-source",
   "name": "R",
   "pygments_lexer": "r",
   "version": "4.1.3"
  }
 },
 "nbformat": 4,
 "nbformat_minor": 4
}