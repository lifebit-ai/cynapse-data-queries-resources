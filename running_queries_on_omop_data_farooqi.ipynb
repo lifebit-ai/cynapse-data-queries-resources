{
 "cells": [
  {
   "cell_type": "markdown",
   "metadata": {},
   "source": [
    "# Running queries on the OMOP data\n",
    "\n",
    "## Install required packages\n",
    "\n",
    "Before executing the cells below, in a terminal session install the following required R packages:\n",
    "\n",
    "`conda create -n omop-source r-glue r-tidyverse r-data.table r-dbi  r-rpostgres r-irkernel -y`\n",
    "\n",
    "### Connect to the SQL database"
   ]
  },
  {
   "cell_type": "code",
   "execution_count": null,
   "metadata": {
    "vscode": {
     "languageId": "r"
    }
   },
   "outputs": [],
   "source": [
    "library(tidyverse)\n",
    "library(data.table)\n",
    "library(glue)\n",
    "library(DBI)\n",
    "library(RPostgres)\n",
    "\n",
    "DBNAME <- #\n",
    "HOST <- #\n",
    "PORT <- #\n",
    "PASSWORD <-  #\n",
    "USER <- 'jupyter_notebook'\n",
    "\n",
    "connection <- DBI::dbConnect(\n",
    "    RPostgres::Postgres(),\n",
    "    dbname = DBNAME,\n",
    "    host = HOST,\n",
    "    port = PORT,\n",
    "    password = PASSWORD,\n",
    "    user = USER,\n",
    "    )"
   ]
  },
  {
   "cell_type": "code",
   "execution_count": null,
   "metadata": {
    "vscode": {
     "languageId": "r"
    }
   },
   "outputs": [],
   "source": [
    "# SQL query - Demographics\n",
    "This is a simple query that provides the total number of participants"
   ]
  },
  {
   "cell_type": "code",
   "execution_count": null,
   "metadata": {
    "vscode": {
     "languageId": "r"
    }
   },
   "outputs": [],
   "source": [
    "omop_query <- \"\n",
    "    select count(distinct o.person_id) as count\n",
    "    from omop_data_farooqi_v1.person o\n",
    "\"\n",
    "\n",
    "all_dataset_demo <- dbGetQuery(connection, glue(omop_query, schema = \"omop_data_farooqi_v1\"))\n",
    "\n",
    "all_dataset_demo"
   ]
  },
  {
   "cell_type": "code",
   "execution_count": null,
   "metadata": {
    "vscode": {
     "languageId": "r"
    }
   },
   "outputs": [],
   "source": [
    "This is a simple query that provides the total of the counts stratified by race"
   ]
  },
  {
   "cell_type": "code",
   "execution_count": null,
   "metadata": {
    "vscode": {
     "languageId": "r"
    }
   },
   "outputs": [],
   "source": [
    "omop_query <- \"\n",
    "    select count(distinct p.person_id) as count, p.race_source_value, p.race_concept_id\n",
    "    from omop_data_farooqi_v1.person p\n",
    "    group by p.race_source_value, p.race_concept_id\n",
    "    order by count desc\n",
    "\"\n",
    "\n",
    "all_dataset_demo <- dbGetQuery(connection, glue(omop_query, schema = \"omop_data_farooqi_v1\"))\n",
    "\n",
    "all_dataset_demo"
   ]
  },
  {
   "cell_type": "markdown",
   "metadata": {},
   "source": [
    "This is a simple query that provides the total of the counts stratified by gender"
   ]
  },
  {
   "cell_type": "code",
   "execution_count": null,
   "metadata": {
    "vscode": {
     "languageId": "r"
    }
   },
   "outputs": [],
   "source": [
    "omop_query <- \"\n",
    "    select count(distinct p.person_id) as count, p.gender_source_value, p.gender_concept_id, c.concept_name\n",
    "    from omop_data_farooqi_v1.person p\n",
    "    left join omop_data_farooqi_v1.concept c on c.concept_id = p.gender_concept_id\n",
    "    group by p.gender_source_value, p.gender_concept_id, c.concept_name\n",
    "\"\n",
    "\n",
    "all_dataset_demo <- dbGetQuery(connection, glue(omop_query, schema = \"omop_data_farooqi_v1\"))\n",
    "\n",
    "all_dataset_demo"
   ]
  },
  {
   "cell_type": "markdown",
   "metadata": {},
   "source": [
    "This is a simple query that provides the total of the counts stratified by condition"
   ]
  },
  {
   "cell_type": "code",
   "execution_count": null,
   "metadata": {
    "vscode": {
     "languageId": "r"
    }
   },
   "outputs": [],
   "source": [
    "omop_query <- \"\n",
    "    select count(distinct co.person_id) as count, co.specimen_concept_id, c.concept_name\n",
    "    from omop_data_farooqi_v1.specimen co\n",
    "    left join omop_data_farooqi_v1.concept c on c.concept_id = co.specimen_concept_id\n",
    "    group by co.specimen_concept_id, c.concept_name\n",
    "    order by count desc\n",
    "\"\n",
    "\n",
    "all_dataset_demo <- dbGetQuery(connection, glue(omop_query, schema = \"omop_data_farooqi_v1\"))\n",
    "\n",
    "all_dataset_demo"
   ]
  },
  {
   "cell_type": "markdown",
   "metadata": {},
   "source": [
    "A query that provides the participants with their specimen type"
   ]
  },
  {
   "cell_type": "code",
   "execution_count": null,
   "metadata": {
    "vscode": {
     "languageId": "r"
    }
   },
   "outputs": [],
   "source": [
    "omop_query <- \"\n",
    "    select p.person_source_value, co.specimen_concept_id, c.concept_name\n",
    "    from omop_data_farooqi_v1.specimen co\n",
    "    left join omop_data_farooqi_v1.person p on p.person_id = co.person_id\n",
    "    left join omop_data_farooqi_v1.concept c on c.concept_id = co.specimen_concept_id\n",
    "\"\n",
    "\n",
    "all_dataset_demo <- dbGetQuery(connection, glue(omop_query, schema = \"omop_data_farooqi_v1\"))\n",
    "\n",
    "all_dataset_demo"
   ]
  },
  {
   "cell_type": "markdown",
   "metadata": {},
   "source": [
    "This is a query that provides the total of the counts stratified by Affected_Unaffected status and race"
   ]
  },
  {
   "cell_type": "code",
   "execution_count": null,
   "metadata": {
    "vscode": {
     "languageId": "r"
    }
   },
   "outputs": [],
   "source": [
    "omop_query <- \"\n",
    "    select count(distinct o.person_id) count, p.race_concept_id, p.race_source_value, o.value_as_string \n",
    "    from omop_data_farooqi_v1.person p\n",
    "    left join omop_data_farooqi_v1.observation o on o.person_id = p.person_id\n",
    "    where o.observation_source_value = 'Affected_Unaffected' AND p.race_concept_id = '38003614'\n",
    "    group by p.race_concept_id, p.race_source_value, o.value_as_string\n",
    "    order by count desc\n",
    "\"\n",
    "\n",
    "all_dataset_demo <- dbGetQuery(connection, glue(omop_query, schema = \"omop_data_farooqi_v1\"))\n",
    "\n",
    "all_dataset_demo"
   ]
  },
  {
   "cell_type": "markdown",
   "metadata": {},
   "source": [
    "This is a query that provides the total of the counts stratified by Affected_CaseType status and gender"
   ]
  },
  {
   "cell_type": "code",
   "execution_count": null,
   "metadata": {
    "vscode": {
     "languageId": "r"
    }
   },
   "outputs": [],
   "source": [
    "omop_query <- \"\n",
    "    select count(distinct o.person_id) count, p.gender_concept_id, p.gender_source_value, o.value_as_string \n",
    "    from omop_data_farooqi_v1.person p\n",
    "    left join omop_data_farooqi_v1.observation o on o.person_id = p.person_id\n",
    "    where o.observation_source_value = 'Affected_CaseType'\n",
    "    group by p.gender_concept_id, p.gender_source_value, o.value_as_string \n",
    "    order by count desc\n",
    "\n",
    "\"\n",
    "\n",
    "all_dataset_demo <- dbGetQuery(connection, glue(omop_query, schema = \"omop_data_farooqi_v1\"))\n",
    "\n",
    "all_dataset_demo"
   ]
  },
  {
   "cell_type": "markdown",
   "metadata": {},
   "source": [
    "A query that filters the participants by Affected_CaseType = Childhood and/or adult obesity"
   ]
  },
  {
   "cell_type": "code",
   "execution_count": null,
   "metadata": {
    "vscode": {
     "languageId": "r"
    }
   },
   "outputs": [],
   "source": [
    "omop_query <- \"\n",
    "    select p.person_source_value, p.gender_concept_id, p.gender_source_value, o.value_as_string \n",
    "    from omop_data_farooqi_v1.person p\n",
    "    left join omop_data_farooqi_v1.observation o on o.person_id = p.person_id\n",
    "    where o.observation_source_value = 'Affected_CaseType' and o.value_as_string = 'Childhood and/or adult obesity'\n",
    "\"\n",
    "\n",
    "all_dataset_demo <- dbGetQuery(connection, glue(omop_query, schema = \"omop_data_farooqi_v1\"))\n",
    "\n",
    "all_dataset_demo"
   ]
  }
 ],
 "metadata": {
  "kernelspec": {
   "display_name": "R",
   "language": "R",
   "name": "ir"
  },
  "language_info": {
   "codemirror_mode": "r",
   "file_extension": ".r",
   "mimetype": "text/x-r-source",
   "name": "R",
   "pygments_lexer": "r",
   "version": "4.1.3"
  }
 },
 "nbformat": 4,
 "nbformat_minor": 4
}
